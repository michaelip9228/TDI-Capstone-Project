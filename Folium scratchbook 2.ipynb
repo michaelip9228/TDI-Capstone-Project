{
 "cells": [
  {
   "cell_type": "code",
   "execution_count": 1,
   "metadata": {},
   "outputs": [],
   "source": [
    "import folium \n",
    "import geojson \n",
    "import geopandas as gpd \n",
    "import numpy as np \n",
    "import pandas as pd \n",
    "from matplotlib import pyplot as plt\n",
    "import datetime as dt \n",
    "from shapely.geometry import Point, Polygon\n",
    "import sys\n",
    "import glob \n",
    "import os \n",
    "from scipy import stats \n",
    "from sklearn.linear_model import LogisticRegression \n",
    "from sklearn.model_selection import train_test_split \n",
    "from sklearn import preprocessing\n",
    "import seaborn as sns\n",
    "import copy\n",
    "\n",
    "files_path = \"C:/Users/Michael Ip/TDI/Capstone_Project/citibike_tripdata/2015_04_to_2015_05\"\n",
    "read_files = glob.glob(os.path.join(files_path,\"*.csv\"))\n",
    "\n",
    "li = []\n",
    "\n",
    "for file in read_files: \n",
    "    df = pd.read_csv(file, index_col = None, header = 0)\n",
    "    li.append(df)\n",
    "    \n",
    "df = pd.concat(li, axis = 0, ignore_index = True)\n",
    "gpd_df = gpd.read_file(\"C:/Users/Michael Ip/TDI/Capstone_Project/citibike_tripdata/Neighborhood Tabulation Areas/geo_export_4f2d36a9-dd43-452a-9f81-a97957389244.shp\")\n",
    "m = folium.Map(location = [40.720737, -73.917217], \n",
    "               tiles = 'Stamen Toner')"
   ]
  },
  {
   "cell_type": "code",
   "execution_count": 2,
   "metadata": {},
   "outputs": [],
   "source": [
    "df[\"age\"] = 2015 - df[\"birth year\"]"
   ]
  },
  {
   "cell_type": "code",
   "execution_count": 3,
   "metadata": {},
   "outputs": [],
   "source": [
    "start_stations = df.groupby(df[\"start station name\"])"
   ]
  },
  {
   "cell_type": "code",
   "execution_count": 7,
   "metadata": {},
   "outputs": [],
   "source": [
    "indiv_station_dict = dict()\n",
    "for start_station, frame in start_stations: \n",
    "    indiv_station_dict[start_station] = pd.DataFrame(frame['age']).dropna()"
   ]
  },
  {
   "cell_type": "code",
   "execution_count": 10,
   "metadata": {
    "scrolled": true
   },
   "outputs": [
    {
     "data": {
      "text/html": [
       "<div>\n",
       "<style scoped>\n",
       "    .dataframe tbody tr th:only-of-type {\n",
       "        vertical-align: middle;\n",
       "    }\n",
       "\n",
       "    .dataframe tbody tr th {\n",
       "        vertical-align: top;\n",
       "    }\n",
       "\n",
       "    .dataframe thead th {\n",
       "        text-align: right;\n",
       "    }\n",
       "</style>\n",
       "<table border=\"1\" class=\"dataframe\">\n",
       "  <thead>\n",
       "    <tr style=\"text-align: right;\">\n",
       "      <th></th>\n",
       "      <th>age</th>\n",
       "    </tr>\n",
       "  </thead>\n",
       "  <tbody>\n",
       "    <tr>\n",
       "      <th>32</th>\n",
       "      <td>56.0</td>\n",
       "    </tr>\n",
       "    <tr>\n",
       "      <th>220</th>\n",
       "      <td>26.0</td>\n",
       "    </tr>\n",
       "    <tr>\n",
       "      <th>441</th>\n",
       "      <td>28.0</td>\n",
       "    </tr>\n",
       "    <tr>\n",
       "      <th>532</th>\n",
       "      <td>26.0</td>\n",
       "    </tr>\n",
       "    <tr>\n",
       "      <th>958</th>\n",
       "      <td>33.0</td>\n",
       "    </tr>\n",
       "    <tr>\n",
       "      <th>...</th>\n",
       "      <td>...</td>\n",
       "    </tr>\n",
       "    <tr>\n",
       "      <th>1614161</th>\n",
       "      <td>20.0</td>\n",
       "    </tr>\n",
       "    <tr>\n",
       "      <th>1614287</th>\n",
       "      <td>32.0</td>\n",
       "    </tr>\n",
       "    <tr>\n",
       "      <th>1614297</th>\n",
       "      <td>27.0</td>\n",
       "    </tr>\n",
       "    <tr>\n",
       "      <th>1614306</th>\n",
       "      <td>26.0</td>\n",
       "    </tr>\n",
       "    <tr>\n",
       "      <th>1614354</th>\n",
       "      <td>26.0</td>\n",
       "    </tr>\n",
       "  </tbody>\n",
       "</table>\n",
       "<p>8487 rows × 1 columns</p>\n",
       "</div>"
      ],
      "text/plain": [
       "          age\n",
       "32       56.0\n",
       "220      26.0\n",
       "441      28.0\n",
       "532      26.0\n",
       "958      33.0\n",
       "...       ...\n",
       "1614161  20.0\n",
       "1614287  32.0\n",
       "1614297  27.0\n",
       "1614306  26.0\n",
       "1614354  26.0\n",
       "\n",
       "[8487 rows x 1 columns]"
      ]
     },
     "execution_count": 10,
     "metadata": {},
     "output_type": "execute_result"
    }
   ],
   "source": [
    "indiv_station_dict['1 Ave & E 15 St']"
   ]
  },
  {
   "cell_type": "code",
   "execution_count": 5,
   "metadata": {},
   "outputs": [],
   "source": [
    "import altair as alt \n",
    "alt.data_transformers.enable('default', max_rows=None)\n",
    "vis=[]\n",
    "for station, frame in indiv_station_dict.items(): \n",
    "    chart = alt.Chart(frame).mark_bar().encode(\n",
    "        alt.X('age', bin=alt.Bin(extent=[18,90], step=5)), \n",
    "        y='count()').properties(width=450, height=250, title='{}'.format(station))\n",
    "    \n",
    "    vis.append(chart.to_json())"
   ]
  },
  {
   "cell_type": "code",
   "execution_count": 5,
   "metadata": {},
   "outputs": [],
   "source": [
    "stations = df.take([4,5,6], axis=1)\n",
    "#stations = df.take([4,5,6], axis=1).loc[['start station name']]\n",
    "stations = stations.drop_duplicates().reset_index(drop=True)\n",
    "\n",
    "age_bin = np.linspace(31, 44, 14)\n",
    "groups = df.groupby(by = \"start station name\")[\"age\"].agg([\"mean\"]).reset_index()\n",
    "groups = groups.rename(columns = {\"mean\" : \"mean age\"})\n",
    "groups[\"age bins\"] = pd.cut(x = groups[\"mean age\"], bins = age_bin)\n",
    "\n",
    "stations = pd.merge(groups, stations, how='outer', on = 'start station name')\n",
    "\n",
    "\n",
    "quantile_age_0 = stations[\"mean age\"].quantile(0)\n",
    "quantile_age_10 = stations[\"mean age\"].quantile(0.10)\n",
    "quantile_age_25 = stations[\"mean age\"].quantile(0.25)\n",
    "quantile_age_50 = stations[\"mean age\"].quantile(0.50)\n",
    "quantile_age_75 = stations[\"mean age\"].quantile(0.75)\n",
    "quantile_age_90 = stations[\"mean age\"].quantile(0.90)\n",
    "quantile_age_1 = stations[\"mean age\"].quantile(1)\n",
    "\n",
    "def colorfunc_age(row): \n",
    "    if row[\"mean age\"] < quantile_age_25: \n",
    "        val = \"blue\"\n",
    "    elif (quantile_age_25 <= row[\"mean age\"] < quantile_age_75):\n",
    "        val = \"red\"\n",
    "    else: \n",
    "        val = \"green\"\n",
    "    return val \n",
    "\n",
    "stations['age bin color'] = stations.apply(colorfunc_age, axis=1)"
   ]
  },
  {
   "cell_type": "code",
   "execution_count": 6,
   "metadata": {},
   "outputs": [
    {
     "name": "stdout",
     "output_type": "stream",
     "text": [
      "['1 Ave & E 15 St', 35.6789207022505, Interval(35.0, 36.0, closed='right'), 40.73221853, -73.98165557, 'blue']\n"
     ]
    }
   ],
   "source": [
    "station_list = stations.values.tolist()\n",
    "print (station_list[0])"
   ]
  },
  {
   "cell_type": "code",
   "execution_count": 8,
   "metadata": {},
   "outputs": [],
   "source": [
    "m = folium.Map(location = [40.729135, -73.992330], \n",
    "               tiles = 'Stamen Terrain',\n",
    "               zoom_start=12)\n",
    "for station, histogram in zip(station_list, vis): \n",
    "    folium.CircleMarker([station[3],station[4]], \n",
    "                        radius=1.5, \n",
    "                        color=station[5], \n",
    "                        tooltip='{}'.format(station[0]),\n",
    "                        popup=folium.Popup(max_width=500).add_child(folium.VegaLite(histogram, width=500,height=250))).add_to(m)\n",
    "m.save(\"map.html\")"
   ]
  },
  {
   "cell_type": "code",
   "execution_count": null,
   "metadata": {},
   "outputs": [],
   "source": []
  },
  {
   "cell_type": "code",
   "execution_count": null,
   "metadata": {},
   "outputs": [],
   "source": []
  }
 ],
 "metadata": {
  "kernelspec": {
   "display_name": "Python 3",
   "language": "python",
   "name": "python3"
  },
  "language_info": {
   "codemirror_mode": {
    "name": "ipython",
    "version": 3
   },
   "file_extension": ".py",
   "mimetype": "text/x-python",
   "name": "python",
   "nbconvert_exporter": "python",
   "pygments_lexer": "ipython3",
   "version": "3.7.3"
  }
 },
 "nbformat": 4,
 "nbformat_minor": 4
}
